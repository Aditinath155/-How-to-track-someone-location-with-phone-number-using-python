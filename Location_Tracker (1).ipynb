{
  "nbformat": 4,
  "nbformat_minor": 0,
  "metadata": {
    "colab": {
      "provenance": []
    },
    "kernelspec": {
      "name": "python3",
      "display_name": "Python 3"
    },
    "language_info": {
      "name": "python"
    }
  },
  "cells": [
    {
      "cell_type": "code",
      "source": [
        "import phonenumbers\n",
        "#Import modules\n",
        "#Carrier for sim type, time zone for location \n",
        "from phonenumbers import carrier,geocoder,timezone\n",
        "\n",
        "#First condition\n",
        "#Input must be of string type and country code must be added before phone number.\n",
        "number = input('Enter a number with countery code +_ _ : ')\n",
        "#We use parse for all detail of phone number\n",
        "phone = phonenumbers.parse(number)\n",
        "time = timezone.time_zones_for_number(phone,)\n",
        "car = carrier.name_for_number(phone,'en') #Carrier for service provider\n",
        "reg = geocoder.description_for_number(phone,'eng') #Mobile number registration name\n",
        "\n",
        "\n",
        "print('your phone number is ',number)\n",
        "print('This sim located in ',time)\n",
        "print(car)\n",
        "print(reg)"
      ],
      "metadata": {
        "colab": {
          "base_uri": "https://localhost:8080/"
        },
        "id": "R5ZE3P3xzsIj",
        "outputId": "59b4f631-8c35-442c-ab2c-a07304da0841"
      },
      "execution_count": 6,
      "outputs": [
        {
          "output_type": "stream",
          "name": "stdout",
          "text": [
            "Enter a number with countery code +_ _ : +919066325417\n",
            "your phone number is  +919066325417\n",
            "This sim located in  ('Asia/Calcutta',)\n",
            "Aircel\n",
            "\n"
          ]
        }
      ]
    }
  ]
}